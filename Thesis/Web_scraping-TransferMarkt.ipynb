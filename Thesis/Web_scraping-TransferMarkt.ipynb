{
 "cells": [
  {
   "cell_type": "code",
   "execution_count": 1,
   "id": "11634834",
   "metadata": {},
   "outputs": [],
   "source": [
    "import requests\n",
    "from bs4 import BeautifulSoup as bts\n",
    "import pandas as pd\n",
    "import re\n",
    "import numpy as np\n",
    "import time"
   ]
  },
  {
   "cell_type": "code",
   "execution_count": 2,
   "id": "b2183377",
   "metadata": {},
   "outputs": [],
   "source": [
    "def getAndParseURL(url):\n",
    "    result = requests.get(url, headers={\"Mozilla/5.0 (Windows NT 10.0; Win64; x64) AppleWebKit/537.36 (KHTML, like Gecko) Chrome/125.0.0.0 Safari/537.36\"}) # Safari/537.36. Chrome/103.0.0.0\n",
    "    soup = bts(result.text, \"html.parser\")\n",
    "    return soup"
   ]
  },
  {
   "cell_type": "code",
   "execution_count": 10,
   "id": "c1c35e5d",
   "metadata": {},
   "outputs": [
    {
     "data": {
      "text/plain": [
       "['https://www.transfermarkt.com/spieler-statistik/wertvollstespieler/marktwertetop?land_id=0&ausrichtung=alle&spielerposition_id=alle&altersklasse=alle&jahrgang=0&kontinent_id=0&plus=1',\n",
       " 'https://www.transfermarkt.com/spieler-statistik/wertvollstespieler/marktwertetop?land_id=0&ausrichtung=alle&spielerposition_id=alle&altersklasse=alle&jahrgang=0&kontinent_id=0&plus=10']"
      ]
     },
     "execution_count": 10,
     "metadata": {},
     "output_type": "execute_result"
    }
   ],
   "source": [
    "\n",
    "pages = [\"https://www.transfermarkt.com/spieler-statistik/wertvollstespieler/marktwertetop?land_id=0&ausrichtung=alle&spielerposition_id=alle&altersklasse=alle&jahrgang=0&kontinent_id=0&plus=1\"]\n",
    "for page in range(0,1,1):\n",
    "    pages.append(\"https://www.transfermarkt.com/spieler-statistik/wertvollstespieler/marktwertetop?land_id=0&ausrichtung=alle&spielerposition_id=alle&altersklasse=alle&jahrgang=0&kontinent_id=0&plus=1\"+str(page))\n",
    "    \n",
    "pages"
   ]
  },
  {
   "cell_type": "code",
   "execution_count": 11,
   "id": "abc6e725",
   "metadata": {},
   "outputs": [
    {
     "ename": "IndentationError",
     "evalue": "unexpected indent (2966994069.py, line 4)",
     "output_type": "error",
     "traceback": [
      "\u001b[1;36m  Cell \u001b[1;32mIn[11], line 4\u001b[1;36m\u001b[0m\n\u001b[1;33m    table = html.find(\"table\", {\"class\": \"items\"})\u001b[0m\n\u001b[1;37m    ^\u001b[0m\n\u001b[1;31mIndentationError\u001b[0m\u001b[1;31m:\u001b[0m unexpected indent\n"
     ]
    }
   ],
   "source": [
    "players = []\n",
    "for page in pages:\n",
    "    html = getAndParseURL(page)\n",
    "     table = html.find(\"table\", {\"class\": \"items\"})\n",
    "    for row in table.find_all(\"tr\")[1:]:\n",
    "        cols = row.find_all(\"td\")\n",
    "        player = {\"name\": cols[1].get_text().strip()} # Oyuncunun adını al ve dictionary olarak tut\n",
    "        for col in cols[2:]: # Oyuncunun adından sonraki tüm sütunları dolaş\n",
    "            header = table.find_all(\"th\")[cols.index(col)].get_text().strip() # Sütun başlığını al\n",
    "            player[header] = col.get_text().strip() # Sütun değerini al ve oyuncu bilgilerine ekle\n",
    "        players.append(player)\n",
    "    time.sleep(1)"
   ]
  },
  {
   "cell_type": "code",
   "execution_count": 5,
   "id": "f8e9409d",
   "metadata": {},
   "outputs": [
    {
     "data": {
      "text/plain": [
       "[{'name': 'All\\nGoalkeeper\\nSweeper\\nCentre-Back\\nLeft-Back\\nRight-Back\\nFull-Back\\nDefensive Midfield\\nCentral Midfield\\nRight Midfield\\nLeft Midfield\\nAttacking Midfield\\nLeft Winger\\nRight Winger\\nWinger\\nSecond Striker\\nCentre-Forward'},\n",
       " {'name': 'All\\nu17\\nu18\\nu19\\nu20\\nu21\\nu23\\n23-30\\no30\\no32\\no34'},\n",
       " {'name': 'All\\n2008\\n2007\\n2006\\n2005\\n2004\\n2003\\n2002\\n2001\\n2000\\n1999\\n1998\\n1997\\n1996\\n1995\\n1994\\n1993\\n1992\\n1991\\n1990\\n1989\\n1988\\n1987\\n1986\\n1985\\n1984\\n1983\\n1982\\n1981\\n1980\\n1979\\n1976\\n1967'},\n",
       " {'name': \"All\\nAfghanistan\\nAlbania\\nAlgeria\\nAmerican Samoa\\nAmerican Virgin Islands\\nAndorra\\nAngola\\nAnguilla\\nAntigua and Barbuda\\nArgentina\\nArmenia\\nAruba\\nAustralia\\nAustria\\nAzerbaijan\\nBahamas\\nBahrain\\nBangladesh\\nBarbados\\nBelarus\\nBelgium\\nBelize\\nBenin\\nBermuda\\nBhutan\\nBolivia\\nBonaire\\nBosnia-Herzegovina\\nBotsuana\\nBrazil\\nBritish India\\nBritish Virgin Islands\\nBrunei Darussalam\\nBulgaria\\nBurkina Faso\\nBurundi\\nCambodia\\nCameroon\\nCanada\\nCape Verde\\nCayman Islands\\nCentral African Republic\\nChad\\nChile\\nChina\\nChinese Taipei\\nChristmas Island\\nColombia\\nComoros\\nCongo\\nCookinseln\\nCosta Rica\\nCote d'Ivoire\\nCrimea\\nCroatia\\nCSSR\\nCuba\\nCuracao\\nCyprus\\nCzech Republic\\nDenmark\\nDjibouti\\nDominica\\nDominican Republic\\nDR Congo\\nEast Germany (GDR)\\nEcuador\\nEgypt\\nEl Salvador\\nEngland\\nEquatorial Guinea\\nEritrea\\nEstonia\\nEswatini\\nEthiopia\\nFalkland Islands\\nFaroe Islands\\nFederated States of Micronesia\\nFiji\\nFinland\\nFrance\\nFrench Guiana\\nGabon\\nGeorgia\\nGermany\\nGhana\\nGibraltar\\nGreece\\nGreenland\\nGrenada\\nGuadeloupe\\nGuam\\nGuatemala\\nGuernsey\\nGuinea\\nGuinea-Bissau\\nGuyana\\nHaiti\\nHonduras\\nHongkong\\nHungary\\nIceland\\nIndia\\nIndonesia\\nIran\\nIraq\\nIreland\\nIsle of Man\\nIsrael\\nItaly\\nJamaica\\nJapan\\nJersey\\nJordan\\nJugoslawien (SFR)\\nKazakhstan\\nKenya\\nKiribati\\nKorea, North\\nKorea, South\\nKosovo\\nKuwait\\nKyrgyzstan\\nLaos\\nLatvia\\nLebanon\\nLesotho\\nLiberia\\nLibya\\nLiechtenstein\\nLithuania\\nLuxembourg\\nMacao\\nMacedonia\\nMadagascar\\nMalawi\\nMalaysia\\nMaldives\\nMali\\nMalta\\nMarshall Islands\\nMartinique\\nMauritania\\nMauritius\\nMayotte\\nMexico\\nMoldova\\nMonaco\\nMongolia\\nMontenegro\\nMontserrat\\nMorocco\\nMozambique\\nMyanmar\\nNamibia\\nNauru\\nNepal\\nNetherlands\\nNetherlands Antilles\\nNetherlands East India\\nNeukaledonien\\nNew Zealand\\nNicaragua\\nNiger\\nNigeria\\nNiue\\nNorth Macedonia\\nNorthern Ireland\\nNorthern Mariana Islands\\nNorway\\nOman\\nPakistan\\nPalau\\nPalestine\\nPanama\\nPapua New Guinea\\nParaguay\\nPeople's republic of the Congo\\nPeru\\nPhilippines\\nPoland\\nPortugal\\nPuerto Rico\\nQatar\\nRéunion\\nRomania\\nRussia\\nRwanda\\nSaarland\\nSaint-Martin\\nSamoa\\nSan Marino\\nSao Tome and Principe\\nSaudi Arabia\\nScotland\\nSenegal\\nSerbia\\nSerbia and Montenegro\\nSeychelles\\nSierra Leone\\nSingapore\\nSint Maarten\\nSlovakia\\nSlovenia\\nSolomon Islands\\nSomalia\\nSouth Africa\\nSouthern Sudan\\nSpain\\nSri Lanka\\nSt. Kitts & Nevis\\nSt. Lucia\\nSt. Vincent & Grenadinen\\nSudan\\nSuriname\\nSwaziland\\nSweden\\nSwitzerland\\nSyria\\nTahiti\\nTajikistan\\nTanzania\\nThailand\\nThe Gambia\\nTibet\\nTimor-Leste\\nTogo\\nTonga\\nTrinidad and Tobago\\nTunisia\\nTürkiye\\nTurkmenistan\\nTurks- and Caicosinseln\\nTuvalu\\nUdSSR\\nUganda\\nUkraine\\nUnited Arab Emirates\\nUnited Kingdom\\nUnited States\\nUruguay\\nUzbekistan\\nVanuatu\\nVatican\\nVenezuela\\nVietnam\\nWales\\nWestern Sahara\\nYemen\\nYugoslavia (Republic)\\nZaire\\nZambia\\nZanzibar\\nZimbabwe\"},\n",
       " {'name': 'Worldwide\\nAFC\\nCAF\\nCONCACAF\\nCONMEBOL\\nOFC\\nUEFA'},\n",
       " {'name': ''},\n",
       " {'name': 'All\\nGoalkeeper\\nSweeper\\nCentre-Back\\nLeft-Back\\nRight-Back\\nFull-Back\\nDefensive Midfield\\nCentral Midfield\\nRight Midfield\\nLeft Midfield\\nAttacking Midfield\\nLeft Winger\\nRight Winger\\nWinger\\nSecond Striker\\nCentre-Forward'},\n",
       " {'name': 'All\\nu17\\nu18\\nu19\\nu20\\nu21\\nu23\\n23-30\\no30\\no32\\no34'},\n",
       " {'name': 'All\\n2008\\n2007\\n2006\\n2005\\n2004\\n2003\\n2002\\n2001\\n2000\\n1999\\n1998\\n1997\\n1996\\n1995\\n1994\\n1993\\n1992\\n1991\\n1990\\n1989\\n1988\\n1987\\n1986\\n1985\\n1984\\n1983\\n1982\\n1981\\n1980\\n1979\\n1976\\n1967'},\n",
       " {'name': \"All\\nAfghanistan\\nAlbania\\nAlgeria\\nAmerican Samoa\\nAmerican Virgin Islands\\nAndorra\\nAngola\\nAnguilla\\nAntigua and Barbuda\\nArgentina\\nArmenia\\nAruba\\nAustralia\\nAustria\\nAzerbaijan\\nBahamas\\nBahrain\\nBangladesh\\nBarbados\\nBelarus\\nBelgium\\nBelize\\nBenin\\nBermuda\\nBhutan\\nBolivia\\nBonaire\\nBosnia-Herzegovina\\nBotsuana\\nBrazil\\nBritish India\\nBritish Virgin Islands\\nBrunei Darussalam\\nBulgaria\\nBurkina Faso\\nBurundi\\nCambodia\\nCameroon\\nCanada\\nCape Verde\\nCayman Islands\\nCentral African Republic\\nChad\\nChile\\nChina\\nChinese Taipei\\nChristmas Island\\nColombia\\nComoros\\nCongo\\nCookinseln\\nCosta Rica\\nCote d'Ivoire\\nCrimea\\nCroatia\\nCSSR\\nCuba\\nCuracao\\nCyprus\\nCzech Republic\\nDenmark\\nDjibouti\\nDominica\\nDominican Republic\\nDR Congo\\nEast Germany (GDR)\\nEcuador\\nEgypt\\nEl Salvador\\nEngland\\nEquatorial Guinea\\nEritrea\\nEstonia\\nEswatini\\nEthiopia\\nFalkland Islands\\nFaroe Islands\\nFederated States of Micronesia\\nFiji\\nFinland\\nFrance\\nFrench Guiana\\nGabon\\nGeorgia\\nGermany\\nGhana\\nGibraltar\\nGreece\\nGreenland\\nGrenada\\nGuadeloupe\\nGuam\\nGuatemala\\nGuernsey\\nGuinea\\nGuinea-Bissau\\nGuyana\\nHaiti\\nHonduras\\nHongkong\\nHungary\\nIceland\\nIndia\\nIndonesia\\nIran\\nIraq\\nIreland\\nIsle of Man\\nIsrael\\nItaly\\nJamaica\\nJapan\\nJersey\\nJordan\\nJugoslawien (SFR)\\nKazakhstan\\nKenya\\nKiribati\\nKorea, North\\nKorea, South\\nKosovo\\nKuwait\\nKyrgyzstan\\nLaos\\nLatvia\\nLebanon\\nLesotho\\nLiberia\\nLibya\\nLiechtenstein\\nLithuania\\nLuxembourg\\nMacao\\nMacedonia\\nMadagascar\\nMalawi\\nMalaysia\\nMaldives\\nMali\\nMalta\\nMarshall Islands\\nMartinique\\nMauritania\\nMauritius\\nMayotte\\nMexico\\nMoldova\\nMonaco\\nMongolia\\nMontenegro\\nMontserrat\\nMorocco\\nMozambique\\nMyanmar\\nNamibia\\nNauru\\nNepal\\nNetherlands\\nNetherlands Antilles\\nNetherlands East India\\nNeukaledonien\\nNew Zealand\\nNicaragua\\nNiger\\nNigeria\\nNiue\\nNorth Macedonia\\nNorthern Ireland\\nNorthern Mariana Islands\\nNorway\\nOman\\nPakistan\\nPalau\\nPalestine\\nPanama\\nPapua New Guinea\\nParaguay\\nPeople's republic of the Congo\\nPeru\\nPhilippines\\nPoland\\nPortugal\\nPuerto Rico\\nQatar\\nRéunion\\nRomania\\nRussia\\nRwanda\\nSaarland\\nSaint-Martin\\nSamoa\\nSan Marino\\nSao Tome and Principe\\nSaudi Arabia\\nScotland\\nSenegal\\nSerbia\\nSerbia and Montenegro\\nSeychelles\\nSierra Leone\\nSingapore\\nSint Maarten\\nSlovakia\\nSlovenia\\nSolomon Islands\\nSomalia\\nSouth Africa\\nSouthern Sudan\\nSpain\\nSri Lanka\\nSt. Kitts & Nevis\\nSt. Lucia\\nSt. Vincent & Grenadinen\\nSudan\\nSuriname\\nSwaziland\\nSweden\\nSwitzerland\\nSyria\\nTahiti\\nTajikistan\\nTanzania\\nThailand\\nThe Gambia\\nTibet\\nTimor-Leste\\nTogo\\nTonga\\nTrinidad and Tobago\\nTunisia\\nTürkiye\\nTurkmenistan\\nTurks- and Caicosinseln\\nTuvalu\\nUdSSR\\nUganda\\nUkraine\\nUnited Arab Emirates\\nUnited Kingdom\\nUnited States\\nUruguay\\nUzbekistan\\nVanuatu\\nVatican\\nVenezuela\\nVietnam\\nWales\\nWestern Sahara\\nYemen\\nYugoslavia (Republic)\\nZaire\\nZambia\\nZanzibar\\nZimbabwe\"},\n",
       " {'name': 'Worldwide\\nAFC\\nCAF\\nCONCACAF\\nCONMEBOL\\nOFC\\nUEFA'},\n",
       " {'name': ''}]"
      ]
     },
     "execution_count": 5,
     "metadata": {},
     "output_type": "execute_result"
    }
   ],
   "source": [
    "players"
   ]
  },
  {
   "cell_type": "code",
   "execution_count": 6,
   "id": "2e83d17c",
   "metadata": {},
   "outputs": [],
   "source": [
    "df = pd.DataFrame(players)"
   ]
  },
  {
   "cell_type": "code",
   "execution_count": 7,
   "id": "873effae",
   "metadata": {},
   "outputs": [
    {
     "ename": "KeyError",
     "evalue": "'Value'",
     "output_type": "error",
     "traceback": [
      "\u001b[1;31m---------------------------------------------------------------------------\u001b[0m",
      "\u001b[1;31mKeyError\u001b[0m                                  Traceback (most recent call last)",
      "File \u001b[1;32m~\\anaconda3\\Lib\\site-packages\\pandas\\core\\indexes\\base.py:3791\u001b[0m, in \u001b[0;36mIndex.get_loc\u001b[1;34m(self, key)\u001b[0m\n\u001b[0;32m   3790\u001b[0m \u001b[38;5;28;01mtry\u001b[39;00m:\n\u001b[1;32m-> 3791\u001b[0m     \u001b[38;5;28;01mreturn\u001b[39;00m \u001b[38;5;28mself\u001b[39m\u001b[38;5;241m.\u001b[39m_engine\u001b[38;5;241m.\u001b[39mget_loc(casted_key)\n\u001b[0;32m   3792\u001b[0m \u001b[38;5;28;01mexcept\u001b[39;00m \u001b[38;5;167;01mKeyError\u001b[39;00m \u001b[38;5;28;01mas\u001b[39;00m err:\n",
      "File \u001b[1;32mindex.pyx:152\u001b[0m, in \u001b[0;36mpandas._libs.index.IndexEngine.get_loc\u001b[1;34m()\u001b[0m\n",
      "File \u001b[1;32mindex.pyx:181\u001b[0m, in \u001b[0;36mpandas._libs.index.IndexEngine.get_loc\u001b[1;34m()\u001b[0m\n",
      "File \u001b[1;32mpandas\\_libs\\hashtable_class_helper.pxi:7080\u001b[0m, in \u001b[0;36mpandas._libs.hashtable.PyObjectHashTable.get_item\u001b[1;34m()\u001b[0m\n",
      "File \u001b[1;32mpandas\\_libs\\hashtable_class_helper.pxi:7088\u001b[0m, in \u001b[0;36mpandas._libs.hashtable.PyObjectHashTable.get_item\u001b[1;34m()\u001b[0m\n",
      "\u001b[1;31mKeyError\u001b[0m: 'Value'",
      "\nThe above exception was the direct cause of the following exception:\n",
      "\u001b[1;31mKeyError\u001b[0m                                  Traceback (most recent call last)",
      "Cell \u001b[1;32mIn[7], line 1\u001b[0m\n\u001b[1;32m----> 1\u001b[0m df[\u001b[38;5;124m'\u001b[39m\u001b[38;5;124mValue\u001b[39m\u001b[38;5;124m'\u001b[39m]\n",
      "File \u001b[1;32m~\\anaconda3\\Lib\\site-packages\\pandas\\core\\frame.py:3893\u001b[0m, in \u001b[0;36mDataFrame.__getitem__\u001b[1;34m(self, key)\u001b[0m\n\u001b[0;32m   3891\u001b[0m \u001b[38;5;28;01mif\u001b[39;00m \u001b[38;5;28mself\u001b[39m\u001b[38;5;241m.\u001b[39mcolumns\u001b[38;5;241m.\u001b[39mnlevels \u001b[38;5;241m>\u001b[39m \u001b[38;5;241m1\u001b[39m:\n\u001b[0;32m   3892\u001b[0m     \u001b[38;5;28;01mreturn\u001b[39;00m \u001b[38;5;28mself\u001b[39m\u001b[38;5;241m.\u001b[39m_getitem_multilevel(key)\n\u001b[1;32m-> 3893\u001b[0m indexer \u001b[38;5;241m=\u001b[39m \u001b[38;5;28mself\u001b[39m\u001b[38;5;241m.\u001b[39mcolumns\u001b[38;5;241m.\u001b[39mget_loc(key)\n\u001b[0;32m   3894\u001b[0m \u001b[38;5;28;01mif\u001b[39;00m is_integer(indexer):\n\u001b[0;32m   3895\u001b[0m     indexer \u001b[38;5;241m=\u001b[39m [indexer]\n",
      "File \u001b[1;32m~\\anaconda3\\Lib\\site-packages\\pandas\\core\\indexes\\base.py:3798\u001b[0m, in \u001b[0;36mIndex.get_loc\u001b[1;34m(self, key)\u001b[0m\n\u001b[0;32m   3793\u001b[0m     \u001b[38;5;28;01mif\u001b[39;00m \u001b[38;5;28misinstance\u001b[39m(casted_key, \u001b[38;5;28mslice\u001b[39m) \u001b[38;5;129;01mor\u001b[39;00m (\n\u001b[0;32m   3794\u001b[0m         \u001b[38;5;28misinstance\u001b[39m(casted_key, abc\u001b[38;5;241m.\u001b[39mIterable)\n\u001b[0;32m   3795\u001b[0m         \u001b[38;5;129;01mand\u001b[39;00m \u001b[38;5;28many\u001b[39m(\u001b[38;5;28misinstance\u001b[39m(x, \u001b[38;5;28mslice\u001b[39m) \u001b[38;5;28;01mfor\u001b[39;00m x \u001b[38;5;129;01min\u001b[39;00m casted_key)\n\u001b[0;32m   3796\u001b[0m     ):\n\u001b[0;32m   3797\u001b[0m         \u001b[38;5;28;01mraise\u001b[39;00m InvalidIndexError(key)\n\u001b[1;32m-> 3798\u001b[0m     \u001b[38;5;28;01mraise\u001b[39;00m \u001b[38;5;167;01mKeyError\u001b[39;00m(key) \u001b[38;5;28;01mfrom\u001b[39;00m \u001b[38;5;21;01merr\u001b[39;00m\n\u001b[0;32m   3799\u001b[0m \u001b[38;5;28;01mexcept\u001b[39;00m \u001b[38;5;167;01mTypeError\u001b[39;00m:\n\u001b[0;32m   3800\u001b[0m     \u001b[38;5;66;03m# If we have a listlike key, _check_indexing_error will raise\u001b[39;00m\n\u001b[0;32m   3801\u001b[0m     \u001b[38;5;66;03m#  InvalidIndexError. Otherwise we fall through and re-raise\u001b[39;00m\n\u001b[0;32m   3802\u001b[0m     \u001b[38;5;66;03m#  the TypeError.\u001b[39;00m\n\u001b[0;32m   3803\u001b[0m     \u001b[38;5;28mself\u001b[39m\u001b[38;5;241m.\u001b[39m_check_indexing_error(key)\n",
      "\u001b[1;31mKeyError\u001b[0m: 'Value'"
     ]
    }
   ],
   "source": [
    "\n",
    "df['Value']"
   ]
  },
  {
   "cell_type": "code",
   "execution_count": 19,
   "id": "a8ca501a",
   "metadata": {},
   "outputs": [],
   "source": [
    "df.to_csv('players_new.csv', index=False)"
   ]
  },
  {
   "cell_type": "code",
   "execution_count": 8,
   "id": "fead13fc",
   "metadata": {},
   "outputs": [
    {
     "data": {
      "text/html": [
       "<div>\n",
       "<style scoped>\n",
       "    .dataframe tbody tr th:only-of-type {\n",
       "        vertical-align: middle;\n",
       "    }\n",
       "\n",
       "    .dataframe tbody tr th {\n",
       "        vertical-align: top;\n",
       "    }\n",
       "\n",
       "    .dataframe thead th {\n",
       "        text-align: right;\n",
       "    }\n",
       "</style>\n",
       "<table border=\"1\" class=\"dataframe\">\n",
       "  <thead>\n",
       "    <tr style=\"text-align: right;\">\n",
       "      <th></th>\n",
       "      <th>name</th>\n",
       "    </tr>\n",
       "  </thead>\n",
       "  <tbody>\n",
       "    <tr>\n",
       "      <th>0</th>\n",
       "      <td>All\\nGoalkeeper\\nSweeper\\nCentre-Back\\nLeft-Ba...</td>\n",
       "    </tr>\n",
       "    <tr>\n",
       "      <th>1</th>\n",
       "      <td>All\\nu17\\nu18\\nu19\\nu20\\nu21\\nu23\\n23-30\\no30\\...</td>\n",
       "    </tr>\n",
       "    <tr>\n",
       "      <th>2</th>\n",
       "      <td>All\\n2008\\n2007\\n2006\\n2005\\n2004\\n2003\\n2002\\...</td>\n",
       "    </tr>\n",
       "    <tr>\n",
       "      <th>3</th>\n",
       "      <td>All\\nAfghanistan\\nAlbania\\nAlgeria\\nAmerican S...</td>\n",
       "    </tr>\n",
       "    <tr>\n",
       "      <th>4</th>\n",
       "      <td>Worldwide\\nAFC\\nCAF\\nCONCACAF\\nCONMEBOL\\nOFC\\n...</td>\n",
       "    </tr>\n",
       "  </tbody>\n",
       "</table>\n",
       "</div>"
      ],
      "text/plain": [
       "                                                name\n",
       "0  All\\nGoalkeeper\\nSweeper\\nCentre-Back\\nLeft-Ba...\n",
       "1  All\\nu17\\nu18\\nu19\\nu20\\nu21\\nu23\\n23-30\\no30\\...\n",
       "2  All\\n2008\\n2007\\n2006\\n2005\\n2004\\n2003\\n2002\\...\n",
       "3  All\\nAfghanistan\\nAlbania\\nAlgeria\\nAmerican S...\n",
       "4  Worldwide\\nAFC\\nCAF\\nCONCACAF\\nCONMEBOL\\nOFC\\n..."
      ]
     },
     "execution_count": 8,
     "metadata": {},
     "output_type": "execute_result"
    }
   ],
   "source": [
    "df.head()"
   ]
  },
  {
   "cell_type": "code",
   "execution_count": null,
   "id": "bde9b5bc",
   "metadata": {},
   "outputs": [],
   "source": []
  },
  {
   "cell_type": "code",
   "execution_count": null,
   "id": "622ec7f1",
   "metadata": {},
   "outputs": [],
   "source": []
  }
 ],
 "metadata": {
  "kernelspec": {
   "display_name": "Python 3 (ipykernel)",
   "language": "python",
   "name": "python3"
  },
  "language_info": {
   "codemirror_mode": {
    "name": "ipython",
    "version": 3
   },
   "file_extension": ".py",
   "mimetype": "text/x-python",
   "name": "python",
   "nbconvert_exporter": "python",
   "pygments_lexer": "ipython3",
   "version": "3.11.5"
  }
 },
 "nbformat": 4,
 "nbformat_minor": 5
}
