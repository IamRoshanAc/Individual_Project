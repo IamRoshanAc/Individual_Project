{
 "cells": [
  {
   "cell_type": "code",
   "execution_count": 1,
   "id": "acb189c4",
   "metadata": {},
   "outputs": [
    {
     "name": "stdout",
     "output_type": "stream",
     "text": [
      "Found 0 player URLs\n"
     ]
    }
   ],
   "source": [
    "import requests\n",
    "from bs4 import BeautifulSoup\n",
    "import pandas as pd\n",
    "\n",
    "def get_player_urls(league_url):\n",
    "    headers = {\n",
    "    \"User-Agent\" : \"Mozilla/5.0 (Windows NT 10.0; Win64; x64) AppleWebKit/537.36 (KHTML, like Gecko) Chrome/125.0.0.0 Safari/537.36\"\n",
    "    }\n",
    "    response = requests.get(league_url, headers=headers)\n",
    "    if response.status_code != 200:\n",
    "        return []\n",
    "\n",
    "    soup = BeautifulSoup(response.content, \"html.parser\")\n",
    "    player_links = soup.select('a.spielprofil_tooltip')  # CSS selector for player links\n",
    "\n",
    "    player_urls = [\"https://www.transfermarkt.com\" + link['href'] for link in player_links]\n",
    "    return player_urls\n",
    "\n",
    "league_url = 'https://www.transfermarkt.com/premier-league/spieler-statistik/wettbewerb/GB1'\n",
    "player_urls = get_player_urls(league_url)\n",
    "\n",
    "print(f\"Found {len(player_urls)} player URLs\")\n"
   ]
  },
  {
   "cell_type": "code",
   "execution_count": null,
   "id": "36163bba",
   "metadata": {},
   "outputs": [],
   "source": []
  }
 ],
 "metadata": {
  "kernelspec": {
   "display_name": "Python 3 (ipykernel)",
   "language": "python",
   "name": "python3"
  },
  "language_info": {
   "codemirror_mode": {
    "name": "ipython",
    "version": 3
   },
   "file_extension": ".py",
   "mimetype": "text/x-python",
   "name": "python",
   "nbconvert_exporter": "python",
   "pygments_lexer": "ipython3",
   "version": "3.11.5"
  }
 },
 "nbformat": 4,
 "nbformat_minor": 5
}
