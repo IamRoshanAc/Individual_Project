{
 "cells": [
  {
   "cell_type": "code",
   "execution_count": 2,
   "id": "cc3365c0",
   "metadata": {},
   "outputs": [],
   "source": [
    "import re\n",
    "import requests\n",
    "from bs4 import BeautifulSoup\n",
    "    "
   ]
  },
  {
   "cell_type": "code",
   "execution_count": 3,
   "id": "899e0c06",
   "metadata": {},
   "outputs": [],
   "source": [
    "url = \"https://www.transfermarkt.com/erling-haaland/profil/spieler/418560\"\n",
    "player_id = url.split('/')[-1]"
   ]
  },
  {
   "cell_type": "code",
   "execution_count": 4,
   "id": "26ddaae1",
   "metadata": {},
   "outputs": [],
   "source": [
    "headers = {\n",
    "    \"User-Agent\" : \"Mozilla/5.0 (Windows NT 10.0; Win64; x64) AppleWebKit/537.36 (KHTML, like Gecko) Chrome/125.0.0.0 Safari/537.36\"\n",
    "}"
   ]
  },
  {
   "cell_type": "code",
   "execution_count": 6,
   "id": "7541bbba",
   "metadata": {},
   "outputs": [],
   "source": [
    "response = requests.get(url, headers=headers)"
   ]
  },
  {
   "cell_type": "code",
   "execution_count": 7,
   "id": "cd0f36bb",
   "metadata": {},
   "outputs": [
    {
     "data": {
      "text/plain": [
       "200"
      ]
     },
     "execution_count": 7,
     "metadata": {},
     "output_type": "execute_result"
    }
   ],
   "source": [
    "response.status_code"
   ]
  },
  {
   "cell_type": "code",
   "execution_count": 9,
   "id": "43464de2",
   "metadata": {},
   "outputs": [],
   "source": [
    "soup = BeautifulSoup(response.content, \"html.parser\")"
   ]
  },
  {
   "cell_type": "code",
   "execution_count": 15,
   "id": "7ae91e57",
   "metadata": {},
   "outputs": [],
   "source": [
    "player_name = soup.select_one('h1[class=\"data-header__headline-wrapper\"]').text.split('\\n')[-1].strip()"
   ]
  },
  {
   "cell_type": "code",
   "execution_count": 16,
   "id": "b49fa85d",
   "metadata": {},
   "outputs": [
    {
     "data": {
      "text/plain": [
       "'Erling Haaland'"
      ]
     },
     "execution_count": 16,
     "metadata": {},
     "output_type": "execute_result"
    }
   ],
   "source": [
    "player_name"
   ]
  },
  {
   "cell_type": "code",
   "execution_count": 19,
   "id": "d41249f9",
   "metadata": {},
   "outputs": [],
   "source": [
    "player_number = soup.select_one('span[class=\"data-header__shirt-number\"]').text.replace('#', '').strip()"
   ]
  },
  {
   "cell_type": "code",
   "execution_count": 20,
   "id": "a7b6b66d",
   "metadata": {},
   "outputs": [
    {
     "data": {
      "text/plain": [
       "'9'"
      ]
     },
     "execution_count": 20,
     "metadata": {},
     "output_type": "execute_result"
    }
   ],
   "source": [
    "player_number"
   ]
  },
  {
   "cell_type": "code",
   "execution_count": 24,
   "id": "336f4b37",
   "metadata": {},
   "outputs": [],
   "source": [
    "response = requests.get(\n",
    "    f'https://www.transfermarkt.com/ceapi/marketValueDevelopment/graph/{player_id}',\n",
    "    headers=headers)"
   ]
  },
  {
   "cell_type": "code",
   "execution_count": 25,
   "id": "c1d715c4",
   "metadata": {},
   "outputs": [
    {
     "data": {
      "text/plain": [
       "200"
      ]
     },
     "execution_count": 25,
     "metadata": {},
     "output_type": "execute_result"
    }
   ],
   "source": [
    "response.status_code"
   ]
  },
  {
   "cell_type": "code",
   "execution_count": 26,
   "id": "06da7da7",
   "metadata": {},
   "outputs": [
    {
     "data": {
      "text/plain": [
       "{'list': [{'x': 1482015600000,\n",
       "   'y': 200000,\n",
       "   'mw': '€200k',\n",
       "   'datum_mw': 'Dec 18, 2016',\n",
       "   'verein': 'Bryne FK',\n",
       "   'age': '16',\n",
       "   'wappen': 'https://tmssl.akamaized.net/images/wappen/profil/1057.png?lm=1480871779'},\n",
       "  {'x': 1513983600000,\n",
       "   'y': 300000,\n",
       "   'mw': '€300k',\n",
       "   'datum_mw': 'Dec 23, 2017',\n",
       "   'verein': 'Molde FK',\n",
       "   'age': '17',\n",
       "   'wappen': 'https://tmssl.akamaized.net/images/wappen/profil/687.png?lm=1409159512'},\n",
       "  {'x': 1536530400000,\n",
       "   'y': 2000000,\n",
       "   'mw': '€2.00m',\n",
       "   'datum_mw': 'Sep 10, 2018',\n",
       "   'verein': 'Molde FK',\n",
       "   'age': '18',\n",
       "   'wappen': ''},\n",
       "  {'x': 1546124400000,\n",
       "   'y': 5000000,\n",
       "   'mw': '€5.00m',\n",
       "   'datum_mw': 'Dec 30, 2018',\n",
       "   'verein': 'Molde FK',\n",
       "   'age': '18',\n",
       "   'wappen': ''},\n",
       "  {'x': 1559512800000,\n",
       "   'y': 5000000,\n",
       "   'mw': '€5.00m',\n",
       "   'datum_mw': 'Jun 3, 2019',\n",
       "   'verein': 'Red Bull Salzburg',\n",
       "   'age': '18',\n",
       "   'wappen': 'https://tmssl.akamaized.net/images/wappen/profil/409_1557781653.png?lm=1557781653'},\n",
       "  {'x': 1567461600000,\n",
       "   'y': 12000000,\n",
       "   'mw': '€12.00m',\n",
       "   'datum_mw': 'Sep 3, 2019',\n",
       "   'verein': 'Red Bull Salzburg',\n",
       "   'age': '19',\n",
       "   'wappen': ''},\n",
       "  {'x': 1573081200000,\n",
       "   'y': 30000000,\n",
       "   'mw': '€30.00m',\n",
       "   'datum_mw': 'Nov 7, 2019',\n",
       "   'verein': 'Red Bull Salzburg',\n",
       "   'age': '19',\n",
       "   'wappen': ''},\n",
       "  {'x': 1576450800000,\n",
       "   'y': 45000000,\n",
       "   'mw': '€45.00m',\n",
       "   'datum_mw': 'Dec 16, 2019',\n",
       "   'verein': 'Red Bull Salzburg',\n",
       "   'age': '19',\n",
       "   'wappen': ''},\n",
       "  {'x': 1581375600000,\n",
       "   'y': 60000000,\n",
       "   'mw': '€60.00m',\n",
       "   'datum_mw': 'Feb 11, 2020',\n",
       "   'verein': 'Borussia Dortmund',\n",
       "   'age': '19',\n",
       "   'wappen': 'https://tmssl.akamaized.net/images/wappen/profil/16.png?lm=1396275280'},\n",
       "  {'x': 1583881200000,\n",
       "   'y': 80000000,\n",
       "   'mw': '€80.00m',\n",
       "   'datum_mw': 'Mar 11, 2020',\n",
       "   'verein': 'Borussia Dortmund',\n",
       "   'age': '19',\n",
       "   'wappen': ''},\n",
       "  {'x': 1586296800000,\n",
       "   'y': 72000000,\n",
       "   'mw': '€72.00m',\n",
       "   'datum_mw': 'Apr 8, 2020',\n",
       "   'verein': 'Borussia Dortmund',\n",
       "   'age': '19',\n",
       "   'wappen': ''},\n",
       "  {'x': 1600207200000,\n",
       "   'y': 80000000,\n",
       "   'mw': '€80.00m',\n",
       "   'datum_mw': 'Sep 16, 2020',\n",
       "   'verein': 'Borussia Dortmund',\n",
       "   'age': '20',\n",
       "   'wappen': ''},\n",
       "  {'x': 1606345200000,\n",
       "   'y': 100000000,\n",
       "   'mw': '€100.00m',\n",
       "   'datum_mw': 'Nov 26, 2020',\n",
       "   'verein': 'Borussia Dortmund',\n",
       "   'age': '20',\n",
       "   'wappen': ''},\n",
       "  {'x': 1612911600000,\n",
       "   'y': 110000000,\n",
       "   'mw': '€110.00m',\n",
       "   'datum_mw': 'Feb 10, 2021',\n",
       "   'verein': 'Borussia Dortmund',\n",
       "   'age': '20',\n",
       "   'wappen': ''},\n",
       "  {'x': 1623189600000,\n",
       "   'y': 130000000,\n",
       "   'mw': '€130.00m',\n",
       "   'datum_mw': 'Jun 9, 2021',\n",
       "   'verein': 'Borussia Dortmund',\n",
       "   'age': '20',\n",
       "   'wappen': ''},\n",
       "  {'x': 1633557600000,\n",
       "   'y': 150000000,\n",
       "   'mw': '€150.00m',\n",
       "   'datum_mw': 'Oct 7, 2021',\n",
       "   'verein': 'Borussia Dortmund',\n",
       "   'age': '21',\n",
       "   'wappen': ''},\n",
       "  {'x': 1640127600000,\n",
       "   'y': 150000000,\n",
       "   'mw': '€150.00m',\n",
       "   'datum_mw': 'Dec 22, 2021',\n",
       "   'verein': 'Borussia Dortmund',\n",
       "   'age': '21',\n",
       "   'wappen': ''},\n",
       "  {'x': 1654725600000,\n",
       "   'y': 150000000,\n",
       "   'mw': '€150.00m',\n",
       "   'datum_mw': 'Jun 9, 2022',\n",
       "   'verein': 'Borussia Dortmund',\n",
       "   'age': '21',\n",
       "   'wappen': ''},\n",
       "  {'x': 1667430000000,\n",
       "   'y': 170000000,\n",
       "   'mw': '€170.00m',\n",
       "   'datum_mw': 'Nov 3, 2022',\n",
       "   'verein': 'Manchester City',\n",
       "   'age': '22',\n",
       "   'wappen': 'https://tmssl.akamaized.net/images/wappen/profil/281.png?lm=1467356331'},\n",
       "  {'x': 1687212000000,\n",
       "   'y': 180000000,\n",
       "   'mw': '€180.00m',\n",
       "   'datum_mw': 'Jun 20, 2023',\n",
       "   'verein': 'Manchester City',\n",
       "   'age': '22',\n",
       "   'wappen': ''},\n",
       "  {'x': 1702940400000,\n",
       "   'y': 180000000,\n",
       "   'mw': '€180.00m',\n",
       "   'datum_mw': 'Dec 19, 2023',\n",
       "   'verein': 'Manchester City',\n",
       "   'age': '23',\n",
       "   'wappen': ''},\n",
       "  {'x': 1716760800000,\n",
       "   'y': 180000000,\n",
       "   'mw': '€180.00m',\n",
       "   'datum_mw': 'May 27, 2024',\n",
       "   'verein': 'Manchester City',\n",
       "   'age': '23',\n",
       "   'wappen': 'https://tmssl.akamaized.net/images/wappen/profil/281.png?lm=1467356331'}],\n",
       " 'current': '€180.00m',\n",
       " 'highest': '€180.00m',\n",
       " 'highest_date': 'Jun 20, 2023',\n",
       " 'last_change': 'May 27, 2024',\n",
       " 'details_url': '/erling-haaland/marktwertverlauf/spieler/418560',\n",
       " 'thread': {'url': '', 'thread_title': '', 'count_replies': ''},\n",
       " 'translations': {'market value': 'Market value',\n",
       "  'team': 'Club',\n",
       "  'age': 'Age',\n",
       "  'resetZoom': 'Vollansicht',\n",
       "  'current': 'Current Market Value\\n\\n',\n",
       "  'highest': 'Highest market value',\n",
       "  'thread': 'View market value analysis',\n",
       "  'forum': 'Forum',\n",
       "  'details': 'Market value details',\n",
       "  'headline': 'Market value over time',\n",
       "  'lastChange': 'Last update'}}"
      ]
     },
     "execution_count": 26,
     "metadata": {},
     "output_type": "execute_result"
    }
   ],
   "source": [
    "response.json()"
   ]
  },
  {
   "cell_type": "code",
   "execution_count": 27,
   "id": "ac204b4f",
   "metadata": {},
   "outputs": [
    {
     "data": {
      "text/plain": [
       "dict_keys(['list', 'current', 'highest', 'highest_date', 'last_change', 'details_url', 'thread', 'translations'])"
      ]
     },
     "execution_count": 27,
     "metadata": {},
     "output_type": "execute_result"
    }
   ],
   "source": [
    "response.json().keys()"
   ]
  },
  {
   "cell_type": "code",
   "execution_count": null,
   "id": "ef08ce67",
   "metadata": {},
   "outputs": [],
   "source": []
  }
 ],
 "metadata": {
  "kernelspec": {
   "display_name": "Python 3 (ipykernel)",
   "language": "python",
   "name": "python3"
  },
  "language_info": {
   "codemirror_mode": {
    "name": "ipython",
    "version": 3
   },
   "file_extension": ".py",
   "mimetype": "text/x-python",
   "name": "python",
   "nbconvert_exporter": "python",
   "pygments_lexer": "ipython3",
   "version": "3.11.5"
  }
 },
 "nbformat": 4,
 "nbformat_minor": 5
}
